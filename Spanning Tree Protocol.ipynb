{
 "cells": [
  {
   "cell_type": "code",
   "execution_count": 1,
   "metadata": {},
   "outputs": [],
   "source": [
    "class Host(object):\n",
    "    def __init__(self, key, lan):\n",
    "        self.key = key\n",
    "        self.lan = lan.key\n",
    "\n",
    "    def get_lan(self):                          # Get Lan ID in Host\n",
    "        return self.lan"
   ]
  },
  {
   "cell_type": "code",
   "execution_count": 2,
   "metadata": {},
   "outputs": [],
   "source": [
    "class Lan(object):\n",
    "    def __init__(self, key):\n",
    "        self.key = key\n",
    "        self.bridges = {}\n",
    "        self.hosts = {}\n",
    "\n",
    "    def add_bridge(self, bridge):               # Add Bridge IDs in Lan\n",
    "        self.bridges[bridge.key] = bridge\n",
    "        \n",
    "    def add_host(self, host):                   # Add Hosts in Lan\n",
    "        self.hosts[host.key] = host\n",
    "\n",
    "    def get_connections(self):                  # Get Bridge IDs in Lan\n",
    "        return self.bridges.keys()\n",
    "    \n",
    "    def get_hosts(self):                        # Get Host IDs in Lan\n",
    "        return self.hosts.keys()"
   ]
  },
  {
   "cell_type": "code",
   "execution_count": 3,
   "metadata": {},
   "outputs": [],
   "source": [
    "class Bridge(object):\n",
    "    def __init__(self, key):\n",
    "        self.key = key    \n",
    "        self.root = key\n",
    "        self.d = 0\n",
    "        \n",
    "        self.lans = {}\n",
    "        self.state = [self.root, self.d, self.key]\n",
    "        self.msg = []\n",
    "\n",
    "    def add_lan(self, lan):                     # Add Lan in Bridge\n",
    "        self.lans[lan.key] = [lan,\"RP\"]\n",
    "\n",
    "    def get_connections(self):                  # Get Lan IDs in Bridge\n",
    "        return self.lans.keys()\n",
    "    \n",
    "    def port(self, lan_key):                    # Get Lan IDs in Bridge\n",
    "        return self.lans[lan_key][1]\n",
    "    \n",
    "    def status(self):                           # Get Bridge Status\n",
    "        return self.state\n",
    "    \n",
    "    def recieve_msg(self, msg):                      # Receiver Bridge Status\n",
    "        return self.msg.append(msg)\n",
    "    \n",
    "    def is_root(self):\n",
    "        return self.root == self.key"
   ]
  },
  {
   "cell_type": "code",
   "execution_count": 4,
   "metadata": {},
   "outputs": [],
   "source": [
    "class Network(object):\n",
    "    def __init__(self):\n",
    "        self.bridges = {}   # Bridges in Network\n",
    "        self.lans = {}      # Lans in Network\n",
    "        \n",
    "    def add_bridge(self, bridge):                   # Add Bridge in Network\n",
    "        self.bridges[bridge.key] = bridge\n",
    "        \n",
    "    def add_lan(self, lan):                         # Add Lan in Network\n",
    "        self.lans[lan.key] = lan\n",
    "\n",
    "    def add_port(self, lan_key, bridge_key):        # Add Port in resp Bridge and Lan\n",
    "        if lan_key not in self.lans:\n",
    "            self.add_lan(Lan(lan_key))\n",
    "            \n",
    "        if lan_key not in self.bridges[bridge_key].lans:\n",
    "            self.bridges[bridge_key].add_lan(self.lans[lan_key])\n",
    "            \n",
    "        if bridge_key not in self.lans[lan_key].bridges:\n",
    "            self.lans[lan_key].add_bridge(self.bridges[bridge_key])\n",
    "\n",
    "    def get_bridges(self):                          # Get Bridges IDs in Network\n",
    "        return self.bridges.keys()\n",
    "    \n",
    "    def get_lans(self):                             # Get Lans IDs in Network\n",
    "        return self.lans.keys()\n",
    "    \n",
    "    def message(self, bridgekey1, bridgekey2):      # Send Bridge msgs in Network\n",
    "        msg = self.bridges[bridgekey1].status()\n",
    "        self.bridges[bridgekey2].recieve_msg(msg)\n",
    "\n",
    "    def __iter__(self):\n",
    "        return iter(self.bridges.values())"
   ]
  },
  {
   "cell_type": "code",
   "execution_count": 5,
   "metadata": {},
   "outputs": [],
   "source": [
    "net = Network()"
   ]
  },
  {
   "cell_type": "code",
   "execution_count": 6,
   "metadata": {},
   "outputs": [],
   "source": [
    "net.add_bridge(Bridge('B1'))\n",
    "net.add_port('A','B1')\n",
    "net.add_port('G','B1')\n",
    "net.add_port('B','B1')"
   ]
  },
  {
   "cell_type": "code",
   "execution_count": 7,
   "metadata": {},
   "outputs": [],
   "source": [
    "net.add_bridge(Bridge('B2'))\n",
    "net.add_port('G','B2')\n",
    "net.add_port('F','B2')"
   ]
  },
  {
   "cell_type": "code",
   "execution_count": 8,
   "metadata": {},
   "outputs": [],
   "source": [
    "net.add_bridge(Bridge('B3'))\n",
    "net.add_port('B','B3')\n",
    "net.add_port('C','B3')"
   ]
  },
  {
   "cell_type": "code",
   "execution_count": 9,
   "metadata": {},
   "outputs": [],
   "source": [
    "net.add_bridge(Bridge('B4'))\n",
    "net.add_port('C','B4')\n",
    "net.add_port('F','B4')\n",
    "net.add_port('E','B4')"
   ]
  },
  {
   "cell_type": "code",
   "execution_count": 10,
   "metadata": {},
   "outputs": [],
   "source": [
    "net.add_bridge(Bridge('B5'))\n",
    "net.add_port('C','B5')\n",
    "net.add_port('D','B5')\n",
    "net.add_port('E','B5')"
   ]
  },
  {
   "cell_type": "code",
   "execution_count": 11,
   "metadata": {},
   "outputs": [
    {
     "name": "stdout",
     "output_type": "stream",
     "text": [
      "['B1', 0, 'B1']\n",
      "['B2', 0, 'B2']\n",
      "['B3', 0, 'B3']\n",
      "['B4', 0, 'B4']\n",
      "['B5', 0, 'B5']\n"
     ]
    }
   ],
   "source": [
    "for bridge in net.bridges:\n",
    "    print(net.bridges[bridge].status())"
   ]
  }
 ],
 "metadata": {
  "kernelspec": {
   "display_name": "Python 3.7.3 64-bit",
   "language": "python",
   "name": "python37364bit7c352722b4854bccbd0d533d97fdf091"
  },
  "language_info": {
   "codemirror_mode": {
    "name": "ipython",
    "version": 3
   },
   "file_extension": ".py",
   "mimetype": "text/x-python",
   "name": "python",
   "nbconvert_exporter": "python",
   "pygments_lexer": "ipython3",
   "version": "3.7.3"
  }
 },
 "nbformat": 4,
 "nbformat_minor": 2
}

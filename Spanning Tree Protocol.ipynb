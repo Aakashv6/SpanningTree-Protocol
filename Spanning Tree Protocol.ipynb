{
 "cells": [
  {
   "cell_type": "code",
   "execution_count": 1,
   "metadata": {},
   "outputs": [],
   "source": [
    "class Host(object):\n",
    "    def __init__(self, key, lan):\n",
    "        self.key = key\n",
    "        self.lan = lan.key\n",
    "\n",
    "    def get_lan(self):                          # Get Lan ID in Host\n",
    "        return self.lan"
   ]
  },
  {
   "cell_type": "code",
   "execution_count": 2,
   "metadata": {},
   "outputs": [],
   "source": [
    "class Lan(object):\n",
    "    def __init__(self, key):\n",
    "        self.key = key\n",
    "        self.bridges = {}\n",
    "        self.hosts = {}\n",
    "        \n",
    "        self.msgs = []\n",
    "        self.db = None\n",
    "        self.t = 0\n",
    "\n",
    "    def add_bridge(self, bridge):               # Add Bridge IDs in Lan\n",
    "        self.bridges[bridge.key] = bridge\n",
    "        \n",
    "    def add_host(self, host):                   # Add Hosts in Lan\n",
    "        self.hosts[host.key] = host\n",
    "        \n",
    "    def send_msg(self):                         # Get Bridge IDs in Lan\n",
    "        for msg in self.msgs:\n",
    "            state = msg[0]\n",
    "            sender = msg[1]\n",
    "            for bridge in self.bridges:\n",
    "                if(sender != bridge):\n",
    "                    self.bridges[bridge].recieve_msg([state, self.key], self.t)\n",
    "    \n",
    "    def recieve_msg(self, msg, t):                  # Get Bridge IDs in Lan\n",
    "        self.t = t\n",
    "        self.msgs.append(msg)\n",
    "    \n",
    "    def update(self):\n",
    "        self.msgs.sort(key=order)\n",
    "        \n",
    "        if len(self.msgs) != 0:\n",
    "            best_config = self.msgs[0]\n",
    "            bridge_key = best_config[1]\n",
    "            \n",
    "            if self.db is not None:\n",
    "                if (bridge_key[1] < self.db[1]):\n",
    "                    self.db = bridge_key\n",
    "            else:\n",
    "                self.db = bridge_key\n",
    "                \n",
    "        self.msgs = []\n",
    "        return self.db\n",
    "        \n",
    "    def clear(self):\n",
    "        self.msg = []\n",
    "        \n",
    "    def get_connections(self):                  # Get Bridge IDs in Lan\n",
    "        return self.bridges.keys()\n",
    "    \n",
    "    def get_hosts(self):                        # Get Host IDs in Lan\n",
    "        return self.hosts.keys()"
   ]
  },
  {
   "cell_type": "code",
   "execution_count": 3,
   "metadata": {},
   "outputs": [],
   "source": [
    "class Bridge(object):\n",
    "    def __init__(self, key):\n",
    "        self.key = key    \n",
    "        self.root = key\n",
    "        self.d = 0\n",
    "        \n",
    "        self.lans = {}\n",
    "        self.state = [self.root, self.d, self.key]\n",
    "        self.msgs = []\n",
    "        \n",
    "        self.trace = []\n",
    "        self.change = False\n",
    "\n",
    "    def add_lan(self, lan):                     # Add Lan in Bridge\n",
    "        self.lans[lan.key] = [lan,\"DP\"]\n",
    "\n",
    "    def get_connections(self):                  # Get Lan IDs in Bridge\n",
    "        return self.lans.keys()\n",
    "    \n",
    "    def port(self, lan_key):                    # Get Lan IDs in Bridge\n",
    "        return [self.key, lan_key, self.lans[lan_key][1]]\n",
    "    \n",
    "    def status(self):                           # Get Bridge Status\n",
    "        return self.state\n",
    "    \n",
    "    def send_msg(self, t):\n",
    "        self.trace.append(str(t) + \" s \" + self.key + \" (\" +self.root+\", \" + str(self.d)+\", \" +self.key + \")\")\n",
    "        for lan in self.lans:\n",
    "            self.lans[lan][0].recieve_msg([self.state, bridge], t)\n",
    "\n",
    "    def recieve_msg(self, msg, t):                      # Receiver Bridge Status\n",
    "        self.trace.append(str(t+1)+\" r \" +self.key+\" (\" + msg[0][0]+\", \" + str(msg[0][1])+\", \" + msg[0][2]+\")\")\n",
    "        self.msgs.append(msg)\n",
    "\n",
    "    def update(self):\n",
    "        self.msgs.sort(key=order)\n",
    "        \n",
    "        if len(self.msgs) != 0:\n",
    "            best_config = self.msgs[0]\n",
    "            \n",
    "            if(self.root > best_config[0][0]):\n",
    "                self.root = best_config[0][0]\n",
    "                self.d = int(best_config[0][1]) + 1\n",
    "\n",
    "                lan_key = best_config[1]\n",
    "                self.lans[lan_key][1] = \"RP\"\n",
    "                \n",
    "                self.state = [self.root, self.d, self.key]\n",
    "                self.change = True\n",
    "                \n",
    "            else:\n",
    "                self.change = False\n",
    "            \n",
    "        self.msgs = []\n",
    "            \n",
    "        return self.state\n",
    "    \n",
    "    def null_port(self):\n",
    "        for lan in self.lans:\n",
    "            if self.lans[lan][1] != \"RP\":\n",
    "                if self.lans[lan][0].db != self.key:\n",
    "                    self.lans[lan][1] = \"NP\"\n",
    "                    \n",
    "        \n",
    "    def is_root(self):\n",
    "        return self.root == self.key"
   ]
  },
  {
   "cell_type": "code",
   "execution_count": 4,
   "metadata": {},
   "outputs": [],
   "source": [
    "def order(msg):\n",
    "    return int(msg[0][0][1])**2 + int(msg[0][1])**2 + int(msg[0][2][1])**2"
   ]
  },
  {
   "cell_type": "code",
   "execution_count": 5,
   "metadata": {},
   "outputs": [],
   "source": [
    "def torder(t):\n",
    "    return t[0]"
   ]
  },
  {
   "cell_type": "code",
   "execution_count": 6,
   "metadata": {},
   "outputs": [],
   "source": [
    "class Network(object):\n",
    "    def __init__(self):\n",
    "        self.bridges = {}   # Bridges in Network\n",
    "        self.lans = {}      # Lans in Network\n",
    "        self.update = True\n",
    "        \n",
    "    def add_bridge(self, bridge):                   # Add Bridge in Network\n",
    "        self.bridges[bridge.key] = bridge\n",
    "        \n",
    "    def add_lan(self, lan):                         # Add Lan in Network\n",
    "        self.lans[lan.key] = lan\n",
    "\n",
    "    def add_port(self, lan_key, bridge_key):        # Add Port in resp Bridge and Lan\n",
    "        if lan_key not in self.lans:\n",
    "            self.add_lan(Lan(lan_key))\n",
    "            \n",
    "        if lan_key not in self.bridges[bridge_key].lans:\n",
    "            self.bridges[bridge_key].add_lan(self.lans[lan_key])\n",
    "            \n",
    "        if bridge_key not in self.lans[lan_key].bridges:\n",
    "            self.lans[lan_key].add_bridge(self.bridges[bridge_key])\n",
    "\n",
    "    def get_bridges(self):                          # Get Bridges IDs in Network\n",
    "        return self.bridges.keys()\n",
    "    \n",
    "    def get_lans(self):                             # Get Lans IDs in Network\n",
    "        return self.lans.keys()\n",
    "    \n",
    "    def change(self):\n",
    "        for bridge in self.bridges:\n",
    "            if self.bridges[bridge].change == True:\n",
    "                self.update = True\n",
    "                break\n",
    "                \n",
    "        return self.update\n",
    "    \n",
    "    def __iter__(self):\n",
    "        return iter(self.bridges.values())"
   ]
  },
  {
   "cell_type": "code",
   "execution_count": 7,
   "metadata": {},
   "outputs": [],
   "source": [
    "net = Network()"
   ]
  },
  {
   "cell_type": "code",
   "execution_count": 8,
   "metadata": {},
   "outputs": [],
   "source": [
    "net.add_bridge(Bridge('B1'))\n",
    "net.add_port('A','B1')\n",
    "net.add_port('G','B1')\n",
    "net.add_port('B','B1')"
   ]
  },
  {
   "cell_type": "code",
   "execution_count": 9,
   "metadata": {},
   "outputs": [],
   "source": [
    "net.add_bridge(Bridge('B2'))\n",
    "net.add_port('G','B2')\n",
    "net.add_port('F','B2')"
   ]
  },
  {
   "cell_type": "code",
   "execution_count": 10,
   "metadata": {},
   "outputs": [],
   "source": [
    "net.add_bridge(Bridge('B3'))\n",
    "net.add_port('B','B3')\n",
    "net.add_port('C','B3')"
   ]
  },
  {
   "cell_type": "code",
   "execution_count": 11,
   "metadata": {},
   "outputs": [],
   "source": [
    "net.add_bridge(Bridge('B4'))\n",
    "net.add_port('C','B4')\n",
    "net.add_port('F','B4')\n",
    "net.add_port('E','B4')"
   ]
  },
  {
   "cell_type": "code",
   "execution_count": 12,
   "metadata": {},
   "outputs": [],
   "source": [
    "net.add_bridge(Bridge('B5'))\n",
    "net.add_port('C','B5')\n",
    "net.add_port('D','B5')\n",
    "net.add_port('E','B5')"
   ]
  },
  {
   "cell_type": "code",
   "execution_count": 13,
   "metadata": {},
   "outputs": [
    {
     "name": "stdout",
     "output_type": "stream",
     "text": [
      "['B1', 0, 'B1']\n",
      "['B2', 0, 'B2']\n",
      "['B3', 0, 'B3']\n",
      "['B4', 0, 'B4']\n",
      "['B5', 0, 'B5']\n"
     ]
    }
   ],
   "source": [
    "for bridge in net.bridges:\n",
    "    print(net.bridges[bridge].status())"
   ]
  },
  {
   "cell_type": "code",
   "execution_count": 14,
   "metadata": {},
   "outputs": [
    {
     "name": "stdout",
     "output_type": "stream",
     "text": [
      "['0 s B1 (B1, 0, B1)', '1 r B1 (B2, 0, B2)', '1 r B1 (B3, 0, B3)', '1 s B1 (B1, 0, B1)', '2 r B1 (B1, 1, B2)', '2 r B1 (B1, 1, B3)', '2 s B1 (B1, 0, B1)', '3 r B1 (B1, 1, B2)', '3 r B1 (B1, 1, B3)']\n",
      "['0 s B2 (B2, 0, B2)', '1 r B2 (B1, 0, B1)', '1 r B2 (B4, 0, B4)', '1 s B2 (B1, 1, B2)', '2 r B2 (B1, 0, B1)', '2 r B2 (B2, 1, B4)', '2 s B2 (B1, 1, B2)', '3 r B2 (B1, 0, B1)', '3 r B2 (B1, 2, B4)']\n",
      "['0 s B3 (B3, 0, B3)', '1 r B3 (B1, 0, B1)', '1 r B3 (B4, 0, B4)', '1 r B3 (B5, 0, B5)', '1 s B3 (B1, 1, B3)', '2 r B3 (B1, 0, B1)', '2 r B3 (B2, 1, B4)', '2 r B3 (B3, 1, B5)', '2 s B3 (B1, 1, B3)', '3 r B3 (B1, 0, B1)', '3 r B3 (B1, 2, B4)', '3 r B3 (B1, 2, B5)']\n",
      "['0 s B4 (B4, 0, B4)', '1 r B4 (B2, 0, B2)', '1 r B4 (B3, 0, B3)', '1 r B4 (B5, 0, B5)', '1 r B4 (B5, 0, B5)', '1 s B4 (B2, 1, B4)', '2 r B4 (B1, 1, B2)', '2 r B4 (B1, 1, B3)', '2 r B4 (B3, 1, B5)', '2 r B4 (B3, 1, B5)', '2 s B4 (B1, 2, B4)', '3 r B4 (B1, 1, B2)', '3 r B4 (B1, 1, B3)', '3 r B4 (B1, 2, B5)', '3 r B4 (B1, 2, B5)']\n",
      "['0 s B5 (B5, 0, B5)', '1 r B5 (B3, 0, B3)', '1 r B5 (B4, 0, B4)', '1 r B5 (B4, 0, B4)', '1 s B5 (B3, 1, B5)', '2 r B5 (B1, 1, B3)', '2 r B5 (B2, 1, B4)', '2 r B5 (B2, 1, B4)', '2 s B5 (B1, 2, B5)', '3 r B5 (B1, 1, B3)', '3 r B5 (B1, 2, B4)', '3 r B5 (B1, 2, B4)']\n",
      "['0 s B1 (B1, 0, B1)', '1 r B1 (B2, 0, B2)', '1 r B1 (B3, 0, B3)', '1 s B1 (B1, 0, B1)', '2 r B1 (B1, 1, B2)', '2 r B1 (B1, 1, B3)', '2 s B1 (B1, 0, B1)', '3 r B1 (B1, 1, B2)', '3 r B1 (B1, 1, B3)']\n",
      "['0 s B2 (B2, 0, B2)', '1 r B2 (B1, 0, B1)', '1 r B2 (B4, 0, B4)', '1 s B2 (B1, 1, B2)', '2 r B2 (B1, 0, B1)', '2 r B2 (B2, 1, B4)', '2 s B2 (B1, 1, B2)', '3 r B2 (B1, 0, B1)', '3 r B2 (B1, 2, B4)']\n",
      "['0 s B3 (B3, 0, B3)', '1 r B3 (B1, 0, B1)', '1 r B3 (B4, 0, B4)', '1 r B3 (B5, 0, B5)', '1 s B3 (B1, 1, B3)', '2 r B3 (B1, 0, B1)', '2 r B3 (B2, 1, B4)', '2 r B3 (B3, 1, B5)', '2 s B3 (B1, 1, B3)', '3 r B3 (B1, 0, B1)', '3 r B3 (B1, 2, B4)', '3 r B3 (B1, 2, B5)']\n",
      "['0 s B4 (B4, 0, B4)', '1 r B4 (B2, 0, B2)', '1 r B4 (B3, 0, B3)', '1 r B4 (B5, 0, B5)', '1 r B4 (B5, 0, B5)', '1 s B4 (B2, 1, B4)', '2 r B4 (B1, 1, B2)', '2 r B4 (B1, 1, B3)', '2 r B4 (B3, 1, B5)', '2 r B4 (B3, 1, B5)', '2 s B4 (B1, 2, B4)', '3 r B4 (B1, 1, B2)', '3 r B4 (B1, 1, B3)', '3 r B4 (B1, 2, B5)', '3 r B4 (B1, 2, B5)']\n",
      "['0 s B5 (B5, 0, B5)', '1 r B5 (B3, 0, B3)', '1 r B5 (B4, 0, B4)', '1 r B5 (B4, 0, B4)', '1 s B5 (B3, 1, B5)', '2 r B5 (B1, 1, B3)', '2 r B5 (B2, 1, B4)', '2 r B5 (B2, 1, B4)', '2 s B5 (B1, 2, B5)', '3 r B5 (B1, 1, B3)', '3 r B5 (B1, 2, B4)', '3 r B5 (B1, 2, B4)']\n",
      "['0 s B1 (B1, 0, B1)', '1 r B1 (B2, 0, B2)', '1 r B1 (B3, 0, B3)', '1 s B1 (B1, 0, B1)', '2 r B1 (B1, 1, B2)', '2 r B1 (B1, 1, B3)', '2 s B1 (B1, 0, B1)', '3 r B1 (B1, 1, B2)', '3 r B1 (B1, 1, B3)']\n",
      "['0 s B2 (B2, 0, B2)', '1 r B2 (B1, 0, B1)', '1 r B2 (B4, 0, B4)', '1 s B2 (B1, 1, B2)', '2 r B2 (B1, 0, B1)', '2 r B2 (B2, 1, B4)', '2 s B2 (B1, 1, B2)', '3 r B2 (B1, 0, B1)', '3 r B2 (B1, 2, B4)']\n",
      "['0 s B3 (B3, 0, B3)', '1 r B3 (B1, 0, B1)', '1 r B3 (B4, 0, B4)', '1 r B3 (B5, 0, B5)', '1 s B3 (B1, 1, B3)', '2 r B3 (B1, 0, B1)', '2 r B3 (B2, 1, B4)', '2 r B3 (B3, 1, B5)', '2 s B3 (B1, 1, B3)', '3 r B3 (B1, 0, B1)', '3 r B3 (B1, 2, B4)', '3 r B3 (B1, 2, B5)']\n",
      "['0 s B4 (B4, 0, B4)', '1 r B4 (B2, 0, B2)', '1 r B4 (B3, 0, B3)', '1 r B4 (B5, 0, B5)', '1 r B4 (B5, 0, B5)', '1 s B4 (B2, 1, B4)', '2 r B4 (B1, 1, B2)', '2 r B4 (B1, 1, B3)', '2 r B4 (B3, 1, B5)', '2 r B4 (B3, 1, B5)', '2 s B4 (B1, 2, B4)', '3 r B4 (B1, 1, B2)', '3 r B4 (B1, 1, B3)', '3 r B4 (B1, 2, B5)', '3 r B4 (B1, 2, B5)']\n",
      "['0 s B5 (B5, 0, B5)', '1 r B5 (B3, 0, B3)', '1 r B5 (B4, 0, B4)', '1 r B5 (B4, 0, B4)', '1 s B5 (B3, 1, B5)', '2 r B5 (B1, 1, B3)', '2 r B5 (B2, 1, B4)', '2 r B5 (B2, 1, B4)', '2 s B5 (B1, 2, B5)', '3 r B5 (B1, 1, B3)', '3 r B5 (B1, 2, B4)', '3 r B5 (B1, 2, B4)']\n"
     ]
    }
   ],
   "source": [
    "flag = 1\n",
    "t = 0\n",
    "trace = []\n",
    "while net.update:\n",
    "\n",
    "    net.update = False\n",
    "    \n",
    "    for bridge in net.bridges:\n",
    "        net.bridges[bridge].send_msg(t)\n",
    "\n",
    "        for lan in net.bridges[bridge].lans:\n",
    "            net.bridges[bridge].lans[lan][0].send_msg()\n",
    "            net.bridges[bridge].lans[lan][0].update()\n",
    "\n",
    "        net.bridges[bridge].update()\n",
    "        trace.append(net.bridges[bridge].trace)\n",
    "        \n",
    "    t += 1\n",
    "    net.change()\n",
    "    \n",
    "for bridge in net.bridges:\n",
    "    net.bridges[bridge].null_port()\n",
    "\n",
    "if(flag):\n",
    "    for t in trace:\n",
    "        t.sort(key=torder)\n",
    "        print(t)"
   ]
  },
  {
   "cell_type": "code",
   "execution_count": 15,
   "metadata": {},
   "outputs": [
    {
     "name": "stdout",
     "output_type": "stream",
     "text": [
      "[[['B1', 1, 'B2'], 'G'], [['B1', 1, 'B3'], 'B']]\n"
     ]
    }
   ],
   "source": [
    "print(net.bridges['B1'].msgs)"
   ]
  },
  {
   "cell_type": "code",
   "execution_count": 16,
   "metadata": {},
   "outputs": [
    {
     "name": "stdout",
     "output_type": "stream",
     "text": [
      "['B1', 'A', 'DP']\n",
      "['B1', 'G', 'DP']\n",
      "['B1', 'B', 'DP']\n",
      "['B2', 'G', 'RP']\n",
      "['B2', 'F', 'DP']\n",
      "['B3', 'B', 'RP']\n",
      "['B3', 'C', 'DP']\n",
      "['B4', 'C', 'NP']\n",
      "['B4', 'F', 'RP']\n",
      "['B4', 'E', 'DP']\n",
      "['B5', 'C', 'RP']\n",
      "['B5', 'D', 'DP']\n",
      "['B5', 'E', 'NP']\n"
     ]
    }
   ],
   "source": [
    "for bridge in net.bridges:\n",
    "    for lan in net.bridges[bridge].lans:\n",
    "        print(net.bridges[bridge].port(lan))"
   ]
  },
  {
   "cell_type": "code",
   "execution_count": 17,
   "metadata": {},
   "outputs": [
    {
     "name": "stdout",
     "output_type": "stream",
     "text": [
      "['B1', 'A', 'DP']\n",
      "['B1', 'G', 'DP']\n",
      "['B1', 'B', 'DP']\n",
      "['B2', 'G', 'RP']\n",
      "['B2', 'F', 'DP']\n",
      "['B3', 'B', 'RP']\n",
      "['B3', 'C', 'DP']\n",
      "['B4', 'C', 'NP']\n",
      "['B4', 'F', 'RP']\n",
      "['B4', 'E', 'DP']\n",
      "['B5', 'C', 'RP']\n",
      "['B5', 'D', 'DP']\n",
      "['B5', 'E', 'NP']\n"
     ]
    }
   ],
   "source": [
    "for bridge in net.bridges:\n",
    "    for lan in net.bridges[bridge].lans:\n",
    "        print(net.bridges[bridge].port(lan))"
   ]
  },
  {
   "cell_type": "code",
   "execution_count": 18,
   "metadata": {},
   "outputs": [
    {
     "name": "stdout",
     "output_type": "stream",
     "text": [
      "['B1', 2, 'B4']\n"
     ]
    }
   ],
   "source": [
    "print(net.bridges['B4'].state)"
   ]
  },
  {
   "cell_type": "code",
   "execution_count": 19,
   "metadata": {},
   "outputs": [
    {
     "name": "stdout",
     "output_type": "stream",
     "text": [
      "B4\n"
     ]
    }
   ],
   "source": [
    "print(net.lans['E'].db)"
   ]
  },
  {
   "cell_type": "code",
   "execution_count": null,
   "metadata": {},
   "outputs": [],
   "source": []
  }
 ],
 "metadata": {
  "kernelspec": {
   "display_name": "Python 3.7.3 64-bit",
   "language": "python",
   "name": "python37364bit7c352722b4854bccbd0d533d97fdf091"
  },
  "language_info": {
   "codemirror_mode": {
    "name": "ipython",
    "version": 3
   },
   "file_extension": ".py",
   "mimetype": "text/x-python",
   "name": "python",
   "nbconvert_exporter": "python",
   "pygments_lexer": "ipython3",
   "version": "3.7.3"
  }
 },
 "nbformat": 4,
 "nbformat_minor": 2
}
